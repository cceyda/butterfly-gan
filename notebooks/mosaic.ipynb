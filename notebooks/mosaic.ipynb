{
 "cells": [
  {
   "cell_type": "code",
   "execution_count": null,
   "metadata": {},
   "outputs": [],
   "source": [
    "# Credit to Jonathan Whitaker"
   ]
  },
  {
   "cell_type": "code",
   "execution_count": null,
   "metadata": {},
   "outputs": [],
   "source": [
    "from PIL import Image\n",
    "from scipy import spatial\n",
    "import numpy as np\n",
    "import random\n",
    "from matplotlib import pyplot as plt"
   ]
  },
  {
   "cell_type": "code",
   "execution_count": null,
   "metadata": {},
   "outputs": [],
   "source": [
    "from demo import get_train_data\n",
    "dataset=get_train_data()\n",
    "# from datasets import load_dataset\n",
    "# dataset=load_dataset(\"image_folder\",data_dir=\"./assets/outputs\")"
   ]
  },
  {
   "cell_type": "code",
   "execution_count": null,
   "metadata": {},
   "outputs": [],
   "source": [
    "# target_image = dataset['train'][4]['image'] # Using one of the dataset as a demo\n",
    "target_image = Image.open(\"./assets/mosaic_bg.png\") # <<< To use your own image\n",
    "rgba = np.array(target_image)\n",
    "rgba[rgba[...,-1]==0] = [255,255,255,0] # Make image transparent white anywhere it is transparent\n",
    "target_image=Image.fromarray(rgba).convert(\"RGB\")\n",
    "target_image"
   ]
  },
  {
   "cell_type": "code",
   "execution_count": null,
   "metadata": {},
   "outputs": [],
   "source": [
    "# Pixelate (resize) the target photo: This is done so that indexing is easier.\n",
    "\n",
    "# Specify width and height directly if you don't care about keeping aspect ratio:\n",
    "width, height = 31, 31\n",
    "\n",
    "# Adjust them so the larger dimension is <size> to roughly follow aspect ratio: \n",
    "size = 32\n",
    "# w, h = target_image.size\n",
    "# if w>h:\n",
    "#   width = int(size)\n",
    "#   height = int(size*h/w)\n",
    "# else:\n",
    "#   width = int(size*w/h)\n",
    "#   height = int(size)\n",
    "\n",
    "print('Downscaling to', width, height)\n",
    "\n",
    "required_num_images=(width*height)+1\n",
    "print(f\"we will need {required_num_images} number of images\")\n",
    "\n",
    "resized_target_image = target_image.resize((width, height))\n",
    "resized_target_image"
   ]
  },
  {
   "cell_type": "code",
   "execution_count": null,
   "metadata": {},
   "outputs": [],
   "source": [
    "# Load all tiles and get mean color\n",
    "tile_size = (128, 128) # Set lower if the final result is too high-res for your liking\n",
    "\n",
    "def resize(ex):\n",
    "    ex[\"image\"]=ex[\"image\"].resize((tile_size[0],tile_size[1]))\n",
    "    im_arr=np.array(ex[\"image\"])\n",
    "    mean_color = im_arr.mean(axis=0).mean(axis=0)\n",
    "    # mean_color = np.array(ex[\"image\"]).mean(axis=0).mean(axis=0)\n",
    "    ex[\"mean_color\"]=mean_color\n",
    "    return ex\n",
    "\n",
    "unused_cols = dataset.column_names\n",
    "unused_cols.remove(\"image\")\n",
    "dataset = dataset.remove_columns(unused_cols)\n",
    "dataset = dataset.map(resize) #resize before or OOM\n",
    "dataset[\"mean_color\"][0]"
   ]
  },
  {
   "cell_type": "code",
   "execution_count": null,
   "metadata": {},
   "outputs": [],
   "source": [
    "def make_mosaic(dataset,shuffle=True, remove_when_used=True):\n",
    "    # Create an output image\n",
    "    output = Image.new('RGB', (width*tile_size[0], height*tile_size[1]))\n",
    "\n",
    "    colors =dataset[\"mean_color\"].copy()\n",
    "    \n",
    "    tiles = dataset[\"image\"]\n",
    "    # Create a KDTree\n",
    "    tree = spatial.KDTree(colors)\n",
    "\n",
    "    # Draw tiles\n",
    "\n",
    "    # Coords to draw to\n",
    "    coords = []\n",
    "    for i in range(width):\n",
    "        for j in range(height):\n",
    "            coords.append([i, j])\n",
    "    # Optionally shuffle coords to avoid gradients\n",
    "    if shuffle:\n",
    "      random.shuffle(coords)\n",
    "\n",
    "    # Run through finding the best tile for the position        \n",
    "    for c in coords:\n",
    "        i = c[0]\n",
    "        j = c[1]\n",
    "\n",
    "        pixel = resized_target_image.getpixel((i, j))  # Getthe pixel color at (i, j)\n",
    "        closest = tree.query(pixel)             # Returns (distance, index)\n",
    "        index = closest[1]        # We only need the index\n",
    "\n",
    "        # Offset of tile\n",
    "        x, y = i*tile_size[0], j*tile_size[1]\n",
    "\n",
    "        # Draw tile\n",
    "        output.paste(tiles[index], (x, y))\n",
    "\n",
    "        # remove tile and recompute the tree\n",
    "        if remove_when_used:\n",
    "          colors.pop(index)\n",
    "          tiles.pop(index)\n",
    "          tree = spatial.KDTree(colors)\n",
    "\n",
    "    # Save output\n",
    "    output.save(\"mosaic.jpg\")"
   ]
  },
  {
   "cell_type": "code",
   "execution_count": null,
   "metadata": {},
   "outputs": [],
   "source": [
    "make_mosaic(dataset,required_num_images)\n",
    "Image.open('mosaic.jpg').resize((width*16, height*16))#.save('./assets/mosaic_lowres.jpg')"
   ]
  }
 ],
 "metadata": {
  "interpreter": {
   "hash": "916dbcbb3f70747c44a77c7bcd40155683ae19c65e1c03b4aa3499c5328201f1"
  },
  "kernelspec": {
   "display_name": "Python 3.8.10 64-bit",
   "language": "python",
   "name": "python3"
  },
  "language_info": {
   "codemirror_mode": {
    "name": "ipython",
    "version": 3
   },
   "file_extension": ".py",
   "mimetype": "text/x-python",
   "name": "python",
   "nbconvert_exporter": "python",
   "pygments_lexer": "ipython3",
   "version": "3.8.10"
  },
  "orig_nbformat": 4
 },
 "nbformat": 4,
 "nbformat_minor": 2
}
