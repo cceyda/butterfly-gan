{
 "cells": [
  {
   "cell_type": "code",
   "execution_count": null,
   "metadata": {},
   "outputs": [],
   "source": [
    "from PIL import Image\n",
    "from demo import remove_bg"
   ]
  },
  {
   "cell_type": "code",
   "execution_count": null,
   "metadata": {},
   "outputs": [],
   "source": [
    "import random\n",
    "from PIL import ImageDraw,ImageFont"
   ]
  },
  {
   "cell_type": "code",
   "execution_count": null,
   "metadata": {},
   "outputs": [],
   "source": [
    "def make_meme(pigeon,text=\"Is this a pigeon\",show_text=True,remove_background=True):\n",
    "    meme_template=Image.open(\"assets/pigeon_meme.jpg\")\n",
    "    meme=meme_template.copy()\n",
    "    approx_butterfly_center=(850,30)\n",
    "    \n",
    "    if remove_background:\n",
    "        pigeon=remove_bg(pigeon)\n",
    "        meme=meme.convert(\"RGBA\")\n",
    "\n",
    "    random_rotate=random.randint(-30,30)\n",
    "    random_size=random.randint(150,200)\n",
    "    pigeon=pigeon.resize((random_size,random_size)).rotate(random_rotate,expand=True)\n",
    "\n",
    "    meme.alpha_composite(pigeon, approx_butterfly_center)\n",
    "\n",
    "    #ref: https://blog.lipsumarium.com/caption-memes-in-python/\n",
    "    def drawTextWithOutline(text, x, y):\n",
    "        draw.text((x-2, y-2), text,(0,0,0),font=font)\n",
    "        draw.text((x+2, y-2), text,(0,0,0),font=font)\n",
    "        draw.text((x+2, y+2), text,(0,0,0),font=font)\n",
    "        draw.text((x-2, y+2), text,(0,0,0),font=font)\n",
    "        draw.text((x, y), text, (255,255,255), font=font)\n",
    "\n",
    "    if show_text:\n",
    "        draw = ImageDraw.Draw(meme)\n",
    "        font_size=52\n",
    "        font = ImageFont.truetype(\"assets/impact.ttf\", font_size)\n",
    "        w, h = draw.textsize(text, font) # measure the size the text will take\n",
    "        drawTextWithOutline(text, meme.width/2 - w/2, meme.height - font_size*2)\n",
    "        \n",
    "    return meme\n",
    "\n",
    "\n",
    "pigeon=Image.open(\"assets/outputs/output2.jpg\")\n",
    "make_meme(pigeon)"
   ]
  },
  {
   "cell_type": "code",
   "execution_count": null,
   "metadata": {},
   "outputs": [],
   "source": []
  }
 ],
 "metadata": {
  "interpreter": {
   "hash": "916dbcbb3f70747c44a77c7bcd40155683ae19c65e1c03b4aa3499c5328201f1"
  },
  "kernelspec": {
   "display_name": "Python 3.8.10 64-bit",
   "language": "python",
   "name": "python3"
  },
  "language_info": {
   "codemirror_mode": {
    "name": "ipython",
    "version": 3
   },
   "file_extension": ".py",
   "mimetype": "text/x-python",
   "name": "python",
   "nbconvert_exporter": "python",
   "pygments_lexer": "ipython3",
   "version": "3.8.10"
  },
  "orig_nbformat": 4
 },
 "nbformat": 4,
 "nbformat_minor": 2
}
