{
 "cells": [
  {
   "cell_type": "code",
   "execution_count": null,
   "metadata": {},
   "outputs": [],
   "source": [
    "from demo import get_train_data\n",
    "dataset=get_train_data()"
   ]
  },
  {
   "cell_type": "code",
   "execution_count": null,
   "metadata": {},
   "outputs": [],
   "source": [
    "from transformers import BeitFeatureExtractor, BeitForImageClassification\n",
    "feature_extractor = BeitFeatureExtractor.from_pretrained('microsoft/beit-base-patch16-224')\n",
    "model = BeitForImageClassification.from_pretrained('microsoft/beit-base-patch16-224')"
   ]
  },
  {
   "cell_type": "code",
   "execution_count": null,
   "metadata": {},
   "outputs": [],
   "source": [
    "def embed(images):\n",
    "    inputs = feature_extractor(images=images, return_tensors=\"pt\")\n",
    "    outputs = model(**inputs,output_hidden_states= True)\n",
    "    last_hidden=outputs.hidden_states[-1]\n",
    "    pooler=model.base_model.pooler\n",
    "    final_emb=pooler(last_hidden).detach().numpy()\n",
    "    return final_emb    "
   ]
  },
  {
   "cell_type": "code",
   "execution_count": null,
   "metadata": {},
   "outputs": [],
   "source": [
    "ds_with_embeddings = dataset.map(lambda x: {\"beit_embeddings\":embed(x[\"image\"])},batched=True,batch_size=20)"
   ]
  },
  {
   "cell_type": "code",
   "execution_count": null,
   "metadata": {},
   "outputs": [],
   "source": [
    "ds_with_embeddings.add_faiss_index(column='beit_embeddings')\n",
    "ds_with_embeddings.save_faiss_index('beit_embeddings', 'beit_index.faiss')\n",
    "# dataset.load_faiss_index('beit_embeddings', 'beit_index.faiss')"
   ]
  },
  {
   "cell_type": "code",
   "execution_count": null,
   "metadata": {},
   "outputs": [],
   "source": [
    "from IPython.display import display"
   ]
  },
  {
   "cell_type": "code",
   "execution_count": null,
   "metadata": {},
   "outputs": [],
   "source": [
    "query_image=dataset[0][\"image\"]\n",
    "scores, retrieved_examples=ds_with_embeddings.get_nearest_examples('beit_embeddings', embed(query_image), k=5)"
   ]
  },
  {
   "cell_type": "code",
   "execution_count": null,
   "metadata": {},
   "outputs": [],
   "source": [
    "for x in retrieved_examples[\"image\"]:\n",
    "    display(x)"
   ]
  }
 ],
 "metadata": {
  "kernelspec": {
   "display_name": "Python 3 (ipykernel)",
   "language": "python",
   "name": "python3"
  },
  "language_info": {
   "codemirror_mode": {
    "name": "ipython",
    "version": 3
   },
   "file_extension": ".py",
   "mimetype": "text/x-python",
   "name": "python",
   "nbconvert_exporter": "python",
   "pygments_lexer": "ipython3",
   "version": "3.8.10"
  },
  "orig_nbformat": 4
 },
 "nbformat": 4,
 "nbformat_minor": 2
}
